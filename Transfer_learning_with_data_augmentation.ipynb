{
  "nbformat": 4,
  "nbformat_minor": 0,
  "metadata": {
    "colab": {
      "provenance": [],
      "gpuType": "T4",
      "authorship_tag": "ABX9TyPjPwsnuBoQYJWl0c6YSq+R",
      "include_colab_link": true
    },
    "kernelspec": {
      "name": "python3",
      "display_name": "Python 3"
    },
    "language_info": {
      "name": "python"
    },
    "accelerator": "GPU",
    "gpuClass": "standard"
  },
  "cells": [
    {
      "cell_type": "markdown",
      "metadata": {
        "id": "view-in-github",
        "colab_type": "text"
      },
      "source": [
        "<a href=\"https://colab.research.google.com/github/vedant-1807/ProjectNotebooks/blob/main/Transfer_learning_with_data_augmentation.ipynb\" target=\"_parent\"><img src=\"https://colab.research.google.com/assets/colab-badge.svg\" alt=\"Open In Colab\"/></a>"
      ]
    },
    {
      "cell_type": "code",
      "execution_count": 1,
      "metadata": {
        "id": "mKHJG45nyw2i"
      },
      "outputs": [],
      "source": [
        "!mkdir -p ~/.kaggle\n",
        "!cp kaggle.json ~/.kaggle"
      ]
    },
    {
      "cell_type": "code",
      "source": [
        "!kaggle datasets download -d salader/dogs-vs-cats"
      ],
      "metadata": {
        "id": "fQRZkh9Py9LK",
        "colab": {
          "base_uri": "https://localhost:8080/"
        },
        "outputId": "cda6530f-5e70-400d-d842-4dea9d45f8e1"
      },
      "execution_count": 2,
      "outputs": [
        {
          "output_type": "stream",
          "name": "stdout",
          "text": [
            "Warning: Your Kaggle API key is readable by other users on this system! To fix this, you can run 'chmod 600 /root/.kaggle/kaggle.json'\n",
            "Downloading dogs-vs-cats.zip to /content\n",
            "100% 1.06G/1.06G [00:13<00:00, 136MB/s]\n",
            "100% 1.06G/1.06G [00:13<00:00, 85.3MB/s]\n"
          ]
        }
      ]
    },
    {
      "cell_type": "code",
      "source": [
        "import zipfile\n",
        "zip_ref = zipfile.ZipFile(\"/content/dogs-vs-cats.zip\", 'r')\n",
        "zip_ref.extractall(\"/content\")\n",
        "zip_ref.close()"
      ],
      "metadata": {
        "id": "vL2wDFphzDJX"
      },
      "execution_count": 3,
      "outputs": []
    },
    {
      "cell_type": "code",
      "source": [
        "import tensorflow\n",
        "from tensorflow import keras\n",
        "from keras import Sequential\n",
        "from keras.layers import Dense, Flatten\n",
        "from keras.applications.vgg16 import VGG16"
      ],
      "metadata": {
        "id": "J_MaX2KrzJNk"
      },
      "execution_count": 4,
      "outputs": []
    },
    {
      "cell_type": "code",
      "source": [
        "conv_base = VGG16(weights = 'imagenet', \n",
        "                  input_shape=(150,150,3),\n",
        "                  include_top= False)"
      ],
      "metadata": {
        "id": "52pcFrXCzJiD",
        "colab": {
          "base_uri": "https://localhost:8080/"
        },
        "outputId": "6baebe32-e09d-46c5-af38-92a2fc7e5f9c"
      },
      "execution_count": 5,
      "outputs": [
        {
          "output_type": "stream",
          "name": "stdout",
          "text": [
            "Downloading data from https://storage.googleapis.com/tensorflow/keras-applications/vgg16/vgg16_weights_tf_dim_ordering_tf_kernels_notop.h5\n",
            "58889256/58889256 [==============================] - 0s 0us/step\n"
          ]
        }
      ]
    },
    {
      "cell_type": "code",
      "source": [
        "conv_base.summary()"
      ],
      "metadata": {
        "id": "07zyIOXYzJ52",
        "colab": {
          "base_uri": "https://localhost:8080/"
        },
        "outputId": "86f56d1e-642c-4a8a-d43f-932831c453b5"
      },
      "execution_count": 6,
      "outputs": [
        {
          "output_type": "stream",
          "name": "stdout",
          "text": [
            "Model: \"vgg16\"\n",
            "_________________________________________________________________\n",
            " Layer (type)                Output Shape              Param #   \n",
            "=================================================================\n",
            " input_1 (InputLayer)        [(None, 150, 150, 3)]     0         \n",
            "                                                                 \n",
            " block1_conv1 (Conv2D)       (None, 150, 150, 64)      1792      \n",
            "                                                                 \n",
            " block1_conv2 (Conv2D)       (None, 150, 150, 64)      36928     \n",
            "                                                                 \n",
            " block1_pool (MaxPooling2D)  (None, 75, 75, 64)        0         \n",
            "                                                                 \n",
            " block2_conv1 (Conv2D)       (None, 75, 75, 128)       73856     \n",
            "                                                                 \n",
            " block2_conv2 (Conv2D)       (None, 75, 75, 128)       147584    \n",
            "                                                                 \n",
            " block2_pool (MaxPooling2D)  (None, 37, 37, 128)       0         \n",
            "                                                                 \n",
            " block3_conv1 (Conv2D)       (None, 37, 37, 256)       295168    \n",
            "                                                                 \n",
            " block3_conv2 (Conv2D)       (None, 37, 37, 256)       590080    \n",
            "                                                                 \n",
            " block3_conv3 (Conv2D)       (None, 37, 37, 256)       590080    \n",
            "                                                                 \n",
            " block3_pool (MaxPooling2D)  (None, 18, 18, 256)       0         \n",
            "                                                                 \n",
            " block4_conv1 (Conv2D)       (None, 18, 18, 512)       1180160   \n",
            "                                                                 \n",
            " block4_conv2 (Conv2D)       (None, 18, 18, 512)       2359808   \n",
            "                                                                 \n",
            " block4_conv3 (Conv2D)       (None, 18, 18, 512)       2359808   \n",
            "                                                                 \n",
            " block4_pool (MaxPooling2D)  (None, 9, 9, 512)         0         \n",
            "                                                                 \n",
            " block5_conv1 (Conv2D)       (None, 9, 9, 512)         2359808   \n",
            "                                                                 \n",
            " block5_conv2 (Conv2D)       (None, 9, 9, 512)         2359808   \n",
            "                                                                 \n",
            " block5_conv3 (Conv2D)       (None, 9, 9, 512)         2359808   \n",
            "                                                                 \n",
            " block5_pool (MaxPooling2D)  (None, 4, 4, 512)         0         \n",
            "                                                                 \n",
            "=================================================================\n",
            "Total params: 14,714,688\n",
            "Trainable params: 14,714,688\n",
            "Non-trainable params: 0\n",
            "_________________________________________________________________\n"
          ]
        }
      ]
    },
    {
      "cell_type": "code",
      "source": [
        "model = Sequential()\n",
        "\n",
        "model.add(conv_base)\n",
        "model.add(Flatten())\n",
        "model.add(Dense(256,activation = 'relu'))\n",
        "model.add(Dense(1,activation= 'sigmoid'))"
      ],
      "metadata": {
        "id": "b3zY-rryzQtT"
      },
      "execution_count": 7,
      "outputs": []
    },
    {
      "cell_type": "code",
      "source": [
        "model.summary()"
      ],
      "metadata": {
        "id": "jhhmaAz6zTtE",
        "colab": {
          "base_uri": "https://localhost:8080/"
        },
        "outputId": "2c65c316-697b-48e1-f797-3de18ca7f9a8"
      },
      "execution_count": 8,
      "outputs": [
        {
          "output_type": "stream",
          "name": "stdout",
          "text": [
            "Model: \"sequential\"\n",
            "_________________________________________________________________\n",
            " Layer (type)                Output Shape              Param #   \n",
            "=================================================================\n",
            " vgg16 (Functional)          (None, 4, 4, 512)         14714688  \n",
            "                                                                 \n",
            " flatten (Flatten)           (None, 8192)              0         \n",
            "                                                                 \n",
            " dense (Dense)               (None, 256)               2097408   \n",
            "                                                                 \n",
            " dense_1 (Dense)             (None, 1)                 257       \n",
            "                                                                 \n",
            "=================================================================\n",
            "Total params: 16,812,353\n",
            "Trainable params: 16,812,353\n",
            "Non-trainable params: 0\n",
            "_________________________________________________________________\n"
          ]
        }
      ]
    },
    {
      "cell_type": "code",
      "source": [
        "conv_base.trainable = False"
      ],
      "metadata": {
        "id": "8hAVh4PCzXCM"
      },
      "execution_count": 9,
      "outputs": []
    },
    {
      "cell_type": "code",
      "source": [
        "from keras.preprocessing.image import ImageDataGenerator\n",
        "from tensorflow.keras.utils import array_to_img, img_to_array, load_img"
      ],
      "metadata": {
        "id": "PNEBddBz2IB5"
      },
      "execution_count": 10,
      "outputs": []
    },
    {
      "cell_type": "code",
      "source": [],
      "metadata": {
        "id": "vQfoY8812YmH"
      },
      "execution_count": 10,
      "outputs": []
    },
    {
      "cell_type": "code",
      "source": [
        "# generators\n",
        "batch_size = 32\n",
        "\n",
        "train_datagen = ImageDataGenerator(\n",
        "    rescale = 1./255,\n",
        "    shear_range = 0.2,\n",
        "    zoom_range = 0.2,\n",
        "    horizontal_flip= True\n",
        ")\n",
        "test_datagen = ImageDataGenerator(rescale = 1./255)\n",
        "\n",
        "train_generator = train_datagen.flow_from_directory(\n",
        "    directory = \"/content/dogs_vs_cats/train\",\n",
        "    batch_size = batch_size,\n",
        "    target_size = (150,150),\n",
        "    class_mode = 'binary'\n",
        ")\n",
        "\n",
        "validation_generator = train_datagen.flow_from_directory(\n",
        "    directory = \"/content/dogs_vs_cats/test\",\n",
        "    batch_size = batch_size,\n",
        "    target_size = (150,150),\n",
        "    class_mode = 'binary'\n",
        ")\n"
      ],
      "metadata": {
        "id": "UVGZyps2zk2I",
        "colab": {
          "base_uri": "https://localhost:8080/"
        },
        "outputId": "e6f29d07-b845-4abb-b3f8-0cb53842890f"
      },
      "execution_count": 11,
      "outputs": [
        {
          "output_type": "stream",
          "name": "stdout",
          "text": [
            "Found 20000 images belonging to 2 classes.\n",
            "Found 5000 images belonging to 2 classes.\n"
          ]
        }
      ]
    },
    {
      "cell_type": "code",
      "source": [
        "model.compile(keras.optimizers.RMSprop(learning_rate=1e-5),loss = 'binary_crossentropy', metrics = ['accuracy'])"
      ],
      "metadata": {
        "id": "Skj2h-aSzmh1"
      },
      "execution_count": 12,
      "outputs": []
    },
    {
      "cell_type": "code",
      "source": [
        "# normalization\n",
        "\n",
        "\n"
      ],
      "metadata": {
        "id": "He3_VRprznJ0"
      },
      "execution_count": 14,
      "outputs": []
    },
    {
      "cell_type": "code",
      "source": [
        "history = model.fit(train_generator,epochs = 10,validation_data = validation_generator)"
      ],
      "metadata": {
        "id": "f421ropkzr4o",
        "colab": {
          "base_uri": "https://localhost:8080/"
        },
        "outputId": "7175c730-54ca-485c-913a-3797a0c54982"
      },
      "execution_count": 15,
      "outputs": [
        {
          "output_type": "stream",
          "name": "stdout",
          "text": [
            "Epoch 1/10\n",
            "625/625 [==============================] - 213s 322ms/step - loss: 0.4069 - accuracy: 0.8257 - val_loss: 0.3111 - val_accuracy: 0.8694\n",
            "Epoch 2/10\n",
            "625/625 [==============================] - 199s 319ms/step - loss: 0.2910 - accuracy: 0.8763 - val_loss: 0.2692 - val_accuracy: 0.8888\n",
            "Epoch 3/10\n",
            "625/625 [==============================] - 198s 317ms/step - loss: 0.2638 - accuracy: 0.8878 - val_loss: 0.2618 - val_accuracy: 0.8898\n",
            "Epoch 4/10\n",
            "625/625 [==============================] - 199s 318ms/step - loss: 0.2514 - accuracy: 0.8956 - val_loss: 0.2449 - val_accuracy: 0.8954\n",
            "Epoch 5/10\n",
            "625/625 [==============================] - 198s 318ms/step - loss: 0.2405 - accuracy: 0.8988 - val_loss: 0.2393 - val_accuracy: 0.8984\n",
            "Epoch 6/10\n",
            "625/625 [==============================] - 200s 320ms/step - loss: 0.2359 - accuracy: 0.9028 - val_loss: 0.2345 - val_accuracy: 0.8974\n",
            "Epoch 7/10\n",
            "625/625 [==============================] - 204s 327ms/step - loss: 0.2301 - accuracy: 0.9043 - val_loss: 0.2288 - val_accuracy: 0.9038\n",
            "Epoch 8/10\n",
            "625/625 [==============================] - 203s 325ms/step - loss: 0.2254 - accuracy: 0.9067 - val_loss: 0.2373 - val_accuracy: 0.8946\n",
            "Epoch 9/10\n",
            "625/625 [==============================] - 199s 318ms/step - loss: 0.2199 - accuracy: 0.9076 - val_loss: 0.2274 - val_accuracy: 0.9034\n",
            "Epoch 10/10\n",
            "625/625 [==============================] - 199s 319ms/step - loss: 0.2177 - accuracy: 0.9103 - val_loss: 0.2252 - val_accuracy: 0.9070\n"
          ]
        }
      ]
    },
    {
      "cell_type": "code",
      "source": [
        "import matplotlib.pyplot as plt\n",
        "\n",
        "plt.plot(history.history['accuracy'],color = 'red',label='train')\n",
        "plt.plot(history.history['val_accuracy'],color = 'blue',label='validation')"
      ],
      "metadata": {
        "id": "wvDGk0ewzvr1",
        "colab": {
          "base_uri": "https://localhost:8080/",
          "height": 447
        },
        "outputId": "edfd4013-51bf-4a1c-9b01-18a46fb53469"
      },
      "execution_count": 16,
      "outputs": [
        {
          "output_type": "execute_result",
          "data": {
            "text/plain": [
              "[<matplotlib.lines.Line2D at 0x7f43f961d930>]"
            ]
          },
          "metadata": {},
          "execution_count": 16
        },
        {
          "output_type": "display_data",
          "data": {
            "text/plain": [
              "<Figure size 640x480 with 1 Axes>"
            ],
            "image/png": "[encoded data removed]"
          },
          "metadata": {}
        }
      ]
    },
    {
      "cell_type": "code",
      "source": [],
      "metadata": {
        "id": "gtXgRRl4NZxH"
      },
      "execution_count": null,
      "outputs": []
    }
  ]
}